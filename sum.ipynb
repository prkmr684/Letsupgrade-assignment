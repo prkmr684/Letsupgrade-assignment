{
 "cells": [
  {
   "cell_type": "code",
   "execution_count": 10,
   "metadata": {},
   "outputs": [
    {
     "name": "stdout",
     "output_type": "stream",
     "text": [
      "enter your number where you want to sum the number 8\n",
      "the sum is  1\n",
      "the sum is  3\n",
      "the sum is  6\n",
      "the sum is  10\n",
      "the sum is  15\n",
      "the sum is  21\n",
      "the sum is  28\n"
     ]
    }
   ],
   "source": [
    "n=int(input(\"enter your number where you want to sum the number \"))\n",
    "i=1\n",
    "sum=0\n",
    "while i<n:\n",
    "    sum=sum+i\n",
    "    print(\"the sum is \", sum)\n",
    "    i=i+1"
   ]
  },
  {
   "cell_type": "code",
   "execution_count": null,
   "metadata": {},
   "outputs": [],
   "source": []
  }
 ],
 "metadata": {
  "kernelspec": {
   "display_name": "Python 3",
   "language": "python",
   "name": "python3"
  },
  "language_info": {
   "codemirror_mode": {
    "name": "ipython",
    "version": 3
   },
   "file_extension": ".py",
   "mimetype": "text/x-python",
   "name": "python",
   "nbconvert_exporter": "python",
   "pygments_lexer": "ipython3",
   "version": "3.8.5"
  }
 },
 "nbformat": 4,
 "nbformat_minor": 4
}

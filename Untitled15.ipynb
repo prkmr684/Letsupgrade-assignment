{
 "cells": [
  {
   "cell_type": "code",
   "execution_count": 4,
   "metadata": {},
   "outputs": [
    {
     "name": "stdout",
     "output_type": "stream",
     "text": [
      "Original key list is : [1, 2, 3, 4, 5]\n",
      "Original value list is : ['a', 'b', 'c', 'd', 'e']\n",
      "Resultant dictionary is : {1: 'a', 2: 'b', 3: 'c', 4: 'd', 5: 'e'}\n"
     ]
    }
   ],
   "source": [
    "test_keys = [1, 2, 3, 4, 5,] \n",
    "test_values = [\"a\", \"b\", \"c\", \"d\", \"e\"] \n",
    "print (\"Original key list is : \" + str(test_keys)) \n",
    "print (\"Original value list is : \" + str(test_values)) \n",
    "res = {} \n",
    "for key in test_keys: \n",
    "    for value in test_values: \n",
    "        res[key] = value \n",
    "        test_values.remove(value) \n",
    "        break  \n",
    "print (\"Resultant dictionary is : \" +  str(res)) \n"
   ]
  },
  {
   "cell_type": "code",
   "execution_count": null,
   "metadata": {},
   "outputs": [],
   "source": []
  }
 ],
 "metadata": {
  "kernelspec": {
   "display_name": "Python 3",
   "language": "python",
   "name": "python3"
  },
  "language_info": {
   "codemirror_mode": {
    "name": "ipython",
    "version": 3
   },
   "file_extension": ".py",
   "mimetype": "text/x-python",
   "name": "python",
   "nbconvert_exporter": "python",
   "pygments_lexer": "ipython3",
   "version": "3.8.5"
  }
 },
 "nbformat": 4,
 "nbformat_minor": 4
}

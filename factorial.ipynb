{
 "cells": [
  {
   "cell_type": "code",
   "execution_count": 27,
   "metadata": {},
   "outputs": [
    {
     "name": "stdout",
     "output_type": "stream",
     "text": [
      "enter your number 0\n",
      "1\n"
     ]
    }
   ],
   "source": [
    "num=int(input(\"enter your number \"))\n",
    "if num<0:\n",
    "    print(not defined)\n",
    "elif num==0 or num==1:\n",
    "    print(1)\n",
    "else:\n",
    "    fact=1\n",
    "    while(num>1):\n",
    "        fact=fact*num\n",
    "        num=num-1\n",
    "    print(fact)\n",
    "    \n",
    "        \n"
   ]
  },
  {
   "cell_type": "code",
   "execution_count": null,
   "metadata": {},
   "outputs": [],
   "source": []
  }
 ],
 "metadata": {
  "kernelspec": {
   "display_name": "Python 3",
   "language": "python",
   "name": "python3"
  },
  "language_info": {
   "codemirror_mode": {
    "name": "ipython",
    "version": 3
   },
   "file_extension": ".py",
   "mimetype": "text/x-python",
   "name": "python",
   "nbconvert_exporter": "python",
   "pygments_lexer": "ipython3",
   "version": "3.8.5"
  }
 },
 "nbformat": 4,
 "nbformat_minor": 4
}

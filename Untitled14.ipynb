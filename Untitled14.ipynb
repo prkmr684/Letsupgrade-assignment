{
 "cells": [
  {
   "cell_type": "code",
   "execution_count": 2,
   "metadata": {},
   "outputs": [],
   "source": [
    "data = data2 = \"\" \n",
    "with open('untitled.txt') as fp: \n",
    "    data = fp.read() \n",
    "with open('untitled.txt') as fp: \n",
    "    data2 = fp.read() \n",
    "data += \"\\n\"\n",
    "data += data2 \n",
    "with open ('file3.txt', 'w') as fp: \n",
    "    fp.write(data) \n"
   ]
  },
  {
   "cell_type": "code",
   "execution_count": null,
   "metadata": {},
   "outputs": [],
   "source": []
  }
 ],
 "metadata": {
  "kernelspec": {
   "display_name": "Python 3",
   "language": "python",
   "name": "python3"
  },
  "language_info": {
   "codemirror_mode": {
    "name": "ipython",
    "version": 3
   },
   "file_extension": ".py",
   "mimetype": "text/x-python",
   "name": "python",
   "nbconvert_exporter": "python",
   "pygments_lexer": "ipython3",
   "version": "3.8.5"
  }
 },
 "nbformat": 4,
 "nbformat_minor": 4
}

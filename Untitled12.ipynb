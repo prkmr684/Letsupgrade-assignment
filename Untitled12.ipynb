{
 "cells": [
  {
   "cell_type": "code",
   "execution_count": 3,
   "metadata": {},
   "outputs": [
    {
     "name": "stdout",
     "output_type": "stream",
     "text": [
      "The original list is : ['mango', 'python', 'divya', 'priya', 'mango']\n",
      "The list after removing duplicates : ['mango', 'python', 'divya', 'priya']\n"
     ]
    }
   ],
   "source": [
    "test_list = [\"mango\", \"python\", \"divya\", \"priya\", \"mango\"] \n",
    "print (\"The original list is : \" +  str(test_list)) \n",
    "res = [] \n",
    "[res.append(x) for x in test_list if x not in res] \n",
    "print (\"The list after removing duplicates : \" + str(res)) \n"
   ]
  },
  {
   "cell_type": "code",
   "execution_count": null,
   "metadata": {},
   "outputs": [],
   "source": []
  }
 ],
 "metadata": {
  "kernelspec": {
   "display_name": "Python 3",
   "language": "python",
   "name": "python3"
  },
  "language_info": {
   "codemirror_mode": {
    "name": "ipython",
    "version": 3
   },
   "file_extension": ".py",
   "mimetype": "text/x-python",
   "name": "python",
   "nbconvert_exporter": "python",
   "pygments_lexer": "ipython3",
   "version": "3.8.5"
  }
 },
 "nbformat": 4,
 "nbformat_minor": 4
}

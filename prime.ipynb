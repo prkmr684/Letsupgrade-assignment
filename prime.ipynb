{
 "cells": [
  {
   "cell_type": "code",
   "execution_count": 13,
   "metadata": {},
   "outputs": [
    {
     "name": "stdout",
     "output_type": "stream",
     "text": [
      "enter your number 8\n",
      "the number is not prime\n"
     ]
    }
   ],
   "source": [
    "num=int(input(\"enter your number \"))\n",
    "if num>1:\n",
    "    for i in range(2,num+1):\n",
    "        if(num%i)==0:\n",
    "            print(\"the number is not prime\")\n",
    "            break    \n",
    "        else:\n",
    "            print(\"prime\")\n",
    "else:\n",
    "    print(\"the number is  prime\") \n",
    "       "
   ]
  },
  {
   "cell_type": "code",
   "execution_count": null,
   "metadata": {},
   "outputs": [],
   "source": [
    "lower=int(input(\"enter the number \"))\n",
    "upper=int(input(\"enter the number \"))\n",
    "print(\"prime number between\",lower, \"and\",upper,\"are:\")\n",
    "for num in range(lower,upper):\n",
    "    if num>1:\n",
    "        for i in range(2,num):\n",
    "            if(num%i)==0:\n",
    "                break\n",
    "            else:\n",
    "                 print(num)"
   ]
  },
  {
   "cell_type": "code",
   "execution_count": null,
   "metadata": {},
   "outputs": [],
   "source": []
  }
 ],
 "metadata": {
  "kernelspec": {
   "display_name": "Python 3",
   "language": "python",
   "name": "python3"
  },
  "language_info": {
   "codemirror_mode": {
    "name": "ipython",
    "version": 3
   },
   "file_extension": ".py",
   "mimetype": "text/x-python",
   "name": "python",
   "nbconvert_exporter": "python",
   "pygments_lexer": "ipython3",
   "version": "3.8.5"
  }
 },
 "nbformat": 4,
 "nbformat_minor": 4
}
